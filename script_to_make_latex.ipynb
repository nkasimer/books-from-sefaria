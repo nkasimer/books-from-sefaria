{
 "cells": [
  {
   "cell_type": "code",
   "execution_count": 1,
   "metadata": {},
   "outputs": [
    {
     "name": "stdout",
     "output_type": "stream",
     "text": [
      "Collecting pylatex\n",
      "  Downloading https://files.pythonhosted.org/packages/8a/76/015a1d785221d9b0d2ad80759d892a6d9d0a8a05daffc52202311ea3d652/PyLaTeX-1.4.1.tar.gz (84kB)\n",
      "Collecting ordered-set (from pylatex)\n",
      "  Downloading https://files.pythonhosted.org/packages/f5/ab/8252360bfe965bba31ec05112b3067bd129ce4800d89e0b85613bc6044f6/ordered-set-4.0.2.tar.gz\n",
      "Building wheels for collected packages: pylatex, ordered-set\n",
      "  Building wheel for pylatex (setup.py): started\n",
      "  Building wheel for pylatex (setup.py): finished with status 'done'\n",
      "  Created wheel for pylatex: filename=PyLaTeX-1.4.1-cp37-none-any.whl size=42829 sha256=c5f9b218136444d7f78848b537d394b47930d4f9495c22f1c67e2e5e3b290c8c\n",
      "  Stored in directory: C:\\Users\\nkasimer\\AppData\\Local\\pip\\Cache\\wheels\\a2\\25\\3a\\2cc0a6219d95ce34f1f7439a6427c62ca262ebaeb5969db89f\n",
      "  Building wheel for ordered-set (setup.py): started\n",
      "  Building wheel for ordered-set (setup.py): finished with status 'done'\n",
      "  Created wheel for ordered-set: filename=ordered_set-4.0.2-py2.py3-none-any.whl size=8213 sha256=505a57efc984cbff79d668e85616bd4abf88c658513658a594968c07c0fbba81\n",
      "  Stored in directory: C:\\Users\\nkasimer\\AppData\\Local\\pip\\Cache\\wheels\\e1\\c6\\9b\\651d8a21d59b51a75ab9c070838f9231b8126421bc0569af47\n",
      "Successfully built pylatex ordered-set\n",
      "Installing collected packages: ordered-set, pylatex\n",
      "Successfully installed ordered-set-4.0.2 pylatex-1.4.1\n"
     ]
    }
   ],
   "source": [
    "import sys\n",
    "!{sys.executable} -m pip install pylatex"
   ]
  },
  {
   "cell_type": "code",
   "execution_count": 4,
   "metadata": {},
   "outputs": [],
   "source": [
    "import json, urllib.request\n",
    "from urllib.parse import urlparse, parse_qs\n",
    "import os"
   ]
  },
  {
   "cell_type": "code",
   "execution_count": 5,
   "metadata": {},
   "outputs": [],
   "source": [
    "hebrew_link = \"https://raw.githubusercontent.com/Sefaria/Sefaria-Export/master/json/Mishnah/Seder%20Zeraim/Mishnah%20Berakhot/Hebrew/Mishnah%2C%20ed.%20Romm%2C%20Vilna%201913.json\"\n",
    "english_link = \"https://raw.githubusercontent.com/Sefaria/Sefaria-Export/master/json/Mishnah/Seder%20Zeraim/Mishnah%20Berakhot/English/merged.json\"\n",
    "with urllib.request.urlopen(hebrew_link) as url:\n",
    "    hebrew_text = json.loads(url.read().decode())\n",
    "with urllib.request.urlopen(english_link) as url:\n",
    "    english_text = json.loads(url.read().decode())"
   ]
  },
  {
   "cell_type": "code",
   "execution_count": 6,
   "metadata": {},
   "outputs": [],
   "source": [
    "output = []\n",
    "chap_num = 1\n",
    "mishna_num = 1\n",
    "title = hebrew_text[\"heTitle\"]\n",
    "title_command = r\"\\newcommand{\\texttitle}{\"+title+\"}\"\n",
    "for perek in hebrew_text[\"text\"]:\n",
    "    output.append(r\"\\addchap{פרק \\hebrewnumeral{\"+str(chap_num)+\"}}\")\n",
    "    for mishna in perek:\n",
    "        english = english_text[\"text\"][chap_num-1][mishna_num-1]\n",
    "        english = english.replace(\"[\",\"{[\")\n",
    "        english = english.replace(\"]\",\"]}\")\n",
    "        output.append(r\"\\addsec{משנה \\hebrewnumeral{\"+str(mishna_num)+\"}}\")\n",
    "        output.append(r\"\\textblock{\"+mishna+\"}{\"+english+\"}\")\n",
    "        mishna_num += 1\n",
    "    chap_num += 1\n",
    "    mishna_num = 1"
   ]
  },
  {
   "cell_type": "code",
   "execution_count": 7,
   "metadata": {},
   "outputs": [],
   "source": [
    "inputpath = os.path.join(\"resources\",\"input.tex\")\n",
    "with open(inputpath, 'r', encoding='utf-8') as infile:\n",
    "    template_lines = list(infile.readlines())\n",
    "\n",
    "outputpath = \"output.tex\"\n",
    "with open(outputpath, 'w', encoding='utf-8') as outfile:\n",
    "    for line in template_lines:\n",
    "        if line == \"%title_here\\n\":\n",
    "            outfile.write(title_command)\n",
    "        if line == \"%body_here\\n\":\n",
    "            for newline in output:\n",
    "                outfile.write(newline)\n",
    "                outfile.write(\"\\n\")\n",
    "        else:\n",
    "            outfile.write(line)\n",
    "            if \"\\n\" not in line:\n",
    "                outfile.write(\"\\n\")"
   ]
  },
  {
   "cell_type": "code",
   "execution_count": null,
   "metadata": {},
   "outputs": [],
   "source": []
  }
 ],
 "metadata": {
  "kernelspec": {
   "display_name": "Python 3",
   "language": "python",
   "name": "python3"
  },
  "language_info": {
   "codemirror_mode": {
    "name": "ipython",
    "version": 3
   },
   "file_extension": ".py",
   "mimetype": "text/x-python",
   "name": "python",
   "nbconvert_exporter": "python",
   "pygments_lexer": "ipython3",
   "version": "3.7.4"
  }
 },
 "nbformat": 4,
 "nbformat_minor": 2
}
